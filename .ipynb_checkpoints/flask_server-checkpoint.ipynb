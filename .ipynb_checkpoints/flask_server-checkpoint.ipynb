{
 "cells": [
  {
   "cell_type": "code",
   "execution_count": null,
   "metadata": {},
   "outputs": [
    {
     "name": "stdout",
     "output_type": "stream",
     "text": [
      " * Serving Flask app \"__main__\" (lazy loading)\n",
      " * Environment: production\n",
      "   WARNING: This is a development server. Do not use it in a production deployment.\n",
      "   Use a production WSGI server instead.\n",
      " * Debug mode: off\n"
     ]
    },
    {
     "name": "stderr",
     "output_type": "stream",
     "text": [
      " * Running on http://0.0.0.0:5000/ (Press CTRL+C to quit)\n",
      "127.0.0.1 - - [24/Oct/2020 19:24:59] \"\u001b[37mGET / HTTP/1.1\u001b[0m\" 200 -\n"
     ]
    },
    {
     "name": "stdout",
     "output_type": "stream",
     "text": [
      "Request received on server\n",
      "Request is of type GET\n",
      "<Response 86 bytes [200 OK]>\n"
     ]
    },
    {
     "name": "stderr",
     "output_type": "stream",
     "text": [
      "127.0.0.1 - - [24/Oct/2020 19:25:37] \"\u001b[37mGET / HTTP/1.1\u001b[0m\" 200 -\n"
     ]
    },
    {
     "name": "stdout",
     "output_type": "stream",
     "text": [
      "Request received on server\n",
      "Request is of type GET\n",
      "<Response 86 bytes [200 OK]>\n"
     ]
    },
    {
     "name": "stderr",
     "output_type": "stream",
     "text": [
      "127.0.0.1 - - [24/Oct/2020 19:25:40] \"\u001b[37mGET / HTTP/1.1\u001b[0m\" 200 -\n"
     ]
    },
    {
     "name": "stdout",
     "output_type": "stream",
     "text": [
      "Request received on server\n",
      "Request is of type GET\n",
      "<Response 86 bytes [200 OK]>\n"
     ]
    },
    {
     "name": "stderr",
     "output_type": "stream",
     "text": [
      "127.0.0.1 - - [24/Oct/2020 19:25:42] \"\u001b[37mGET / HTTP/1.1\u001b[0m\" 200 -\n"
     ]
    },
    {
     "name": "stdout",
     "output_type": "stream",
     "text": [
      "Request received on server\n",
      "Request is of type GET\n",
      "<Response 86 bytes [200 OK]>\n"
     ]
    },
    {
     "name": "stderr",
     "output_type": "stream",
     "text": [
      "127.0.0.1 - - [24/Oct/2020 21:05:19] \"\u001b[37mGET / HTTP/1.1\u001b[0m\" 200 -\n"
     ]
    },
    {
     "name": "stdout",
     "output_type": "stream",
     "text": [
      "Request received on server\n",
      "Request is of type GET\n",
      "<Response 86 bytes [200 OK]>\n"
     ]
    },
    {
     "name": "stderr",
     "output_type": "stream",
     "text": [
      "127.0.0.1 - - [24/Oct/2020 21:14:36] \"\u001b[37mGET / HTTP/1.1\u001b[0m\" 200 -\n"
     ]
    },
    {
     "name": "stdout",
     "output_type": "stream",
     "text": [
      "Request received on server\n",
      "Request is of type GET\n",
      "<Response 86 bytes [200 OK]>\n"
     ]
    },
    {
     "name": "stderr",
     "output_type": "stream",
     "text": [
      "127.0.0.1 - - [24/Oct/2020 21:15:29] \"\u001b[37mGET / HTTP/1.1\u001b[0m\" 200 -\n"
     ]
    },
    {
     "name": "stdout",
     "output_type": "stream",
     "text": [
      "Request received on server\n",
      "Request is of type GET\n",
      "<Response 86 bytes [200 OK]>\n"
     ]
    },
    {
     "name": "stderr",
     "output_type": "stream",
     "text": [
      "127.0.0.1 - - [24/Oct/2020 21:17:03] \"\u001b[37mGET / HTTP/1.1\u001b[0m\" 200 -\n"
     ]
    },
    {
     "name": "stdout",
     "output_type": "stream",
     "text": [
      "Request received on server\n",
      "Request is of type GET\n",
      "<Response 86 bytes [200 OK]>\n"
     ]
    },
    {
     "name": "stderr",
     "output_type": "stream",
     "text": [
      "127.0.0.1 - - [24/Oct/2020 21:18:55] \"\u001b[37mGET / HTTP/1.1\u001b[0m\" 200 -\n"
     ]
    },
    {
     "name": "stdout",
     "output_type": "stream",
     "text": [
      "Request received on server\n",
      "Request is of type GET\n",
      "<Response 86 bytes [200 OK]>\n"
     ]
    }
   ],
   "source": [
    "import requests\n",
    "from flask import Flask, render_template, request, jsonify, make_response\n",
    "app = Flask(__name__)\n",
    "\n",
    "@app.route('/', methods=['GET','OPTIONS','POST'])\n",
    "def greeting():\n",
    "    print(\"Request received on server\")\n",
    "    urls = ['https://sites.google.com/site/prajtheartist/colors-are-approximate?authuser=0']\n",
    "\n",
    "    if request.method == 'OPTIONS': \n",
    "        print(\"Request is of type OPTIONS\")\n",
    "        return build_preflight_response()\n",
    "    else:# if request.method == 'POST': \n",
    "        req = request.get_json()\n",
    "        print(\"Request is of type GET\")\n",
    "        # query user with req['id']\n",
    "        # for demonstration, we assume the username to be Eric\n",
    "        r = build_actual_response(jsonify({'0':urls[0]}))\n",
    "        print(r)\n",
    "        return r\n",
    "def build_preflight_response():\n",
    "    response = make_response()\n",
    "    response.headers.add(\"Access-Control-Allow-Origin\", \"*\")\n",
    "    response.headers.add('Access-Control-Allow-Headers', \"*\")\n",
    "    response.headers.add('Access-Control-Allow-Methods', \"*\")\n",
    "    return response\n",
    "\n",
    "def build_actual_response(response):\n",
    "    response.headers.add(\"Access-Control-Allow-Origin\", \"*\")\n",
    "    return response\n",
    "\n",
    "if __name__ == '__main__':\n",
    "    app.run(host='0.0.0.0')"
   ]
  },
  {
   "cell_type": "code",
   "execution_count": null,
   "metadata": {},
   "outputs": [],
   "source": []
  }
 ],
 "metadata": {
  "kernelspec": {
   "display_name": "a-test",
   "language": "python",
   "name": "a-test"
  },
  "language_info": {
   "codemirror_mode": {
    "name": "ipython",
    "version": 3
   },
   "file_extension": ".py",
   "mimetype": "text/x-python",
   "name": "python",
   "nbconvert_exporter": "python",
   "pygments_lexer": "ipython3",
   "version": "3.7.6"
  }
 },
 "nbformat": 4,
 "nbformat_minor": 4
}

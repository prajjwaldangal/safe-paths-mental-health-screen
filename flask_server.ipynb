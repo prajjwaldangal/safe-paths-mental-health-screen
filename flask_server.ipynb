{
 "cells": [
  {
   "cell_type": "code",
   "execution_count": 36,
   "metadata": {
    "collapsed": true
   },
   "outputs": [
    {
     "name": "stdout",
     "output_type": "stream",
     "text": [
      "Collecting package metadata (current_repodata.json): done\n",
      "Solving environment: failed with initial frozen solve. Retrying with flexible solve.\n",
      "Collecting package metadata (repodata.json): done\n",
      "Solving environment: failed with initial frozen solve. Retrying with flexible solve.\n",
      "\n",
      "PackagesNotFoundError: The following packages are not available from current channels:\n",
      "\n",
      "  - stringio\n",
      "\n",
      "Current channels:\n",
      "\n",
      "  - https://conda.anaconda.org/conda-forge/osx-64\n",
      "  - https://conda.anaconda.org/conda-forge/noarch\n",
      "  - https://repo.anaconda.com/pkgs/main/osx-64\n",
      "  - https://repo.anaconda.com/pkgs/main/noarch\n",
      "  - https://repo.anaconda.com/pkgs/r/osx-64\n",
      "  - https://repo.anaconda.com/pkgs/r/noarch\n",
      "\n",
      "To search for alternate channels that may provide the conda package you're\n",
      "looking for, navigate to\n",
      "\n",
      "    https://anaconda.org\n",
      "\n",
      "and use the search bar at the top of the page.\n",
      "\n",
      "\n"
     ]
    }
   ],
   "source": [
    "import sys\n",
    "!conda install -c conda-forge --yes --prefix {sys.prefix} StringIO"
   ]
  },
  {
   "cell_type": "code",
   "execution_count": 47,
   "metadata": {},
   "outputs": [],
   "source": [
    "from io import StringIO, BytesIO"
   ]
  },
  {
   "cell_type": "code",
   "execution_count": 44,
   "metadata": {
    "collapsed": true
   },
   "outputs": [
    {
     "name": "stdout",
     "output_type": "stream",
     "text": [
      "Help on cython_function_or_method in module lxml.etree:\n",
      "\n",
      "parse(source, parser=None, *, base_url=None)\n",
      "    parse(source, parser=None, base_url=None)\n",
      "    \n",
      "    Return an ElementTree object loaded with source elements.  If no parser\n",
      "    is provided as second argument, the default parser is used.\n",
      "    \n",
      "    The ``source`` can be any of the following:\n",
      "    \n",
      "    - a file name/path\n",
      "    - a file object\n",
      "    - a file-like object\n",
      "    - a URL using the HTTP or FTP protocol\n",
      "    \n",
      "    To parse from a string, use the ``fromstring()`` function instead.\n",
      "    \n",
      "    Note that it is generally faster to parse from a file path or URL\n",
      "    than from an open file object or file-like object.  Transparent\n",
      "    decompression from gzip compressed sources is supported (unless\n",
      "    explicitly disabled in libxml2).\n",
      "    \n",
      "    The ``base_url`` keyword allows setting a URL for the document\n",
      "    when parsing from a file-like object.  This is needed when looking\n",
      "    up external entities (DTD, XInclude, ...) with relative paths.\n",
      "\n"
     ]
    }
   ],
   "source": [
    "help(etree.parse)"
   ]
  },
  {
   "cell_type": "code",
   "execution_count": 63,
   "metadata": {},
   "outputs": [],
   "source": [
    "from bs4 import BeautifulSoup"
   ]
  },
  {
   "cell_type": "code",
   "execution_count": null,
   "metadata": {},
   "outputs": [
    {
     "name": "stdout",
     "output_type": "stream",
     "text": [
      " * Serving Flask app \"__main__\" (lazy loading)\n",
      " * Environment: production\n",
      "   WARNING: This is a development server. Do not use it in a production deployment.\n",
      "   Use a production WSGI server instead.\n",
      " * Debug mode: off\n"
     ]
    },
    {
     "name": "stderr",
     "output_type": "stream",
     "text": [
      " * Running on http://0.0.0.0:5000/ (Press CTRL+C to quit)\n"
     ]
    },
    {
     "name": "stdout",
     "output_type": "stream",
     "text": [
      "Request received on server\n"
     ]
    },
    {
     "name": "stderr",
     "output_type": "stream",
     "text": [
      "192.168.29.156 - - [07/Nov/2020 00:43:56] \"\u001b[37mGET / HTTP/1.1\u001b[0m\" 200 -\n"
     ]
    },
    {
     "name": "stdout",
     "output_type": "stream",
     "text": [
      "Request is of type GET\n",
      "<Response 86 bytes [200 OK]>\n",
      "Request received on server\n"
     ]
    },
    {
     "name": "stderr",
     "output_type": "stream",
     "text": [
      "192.168.29.156 - - [07/Nov/2020 00:44:04] \"\u001b[37mGET / HTTP/1.1\u001b[0m\" 200 -\n"
     ]
    },
    {
     "name": "stdout",
     "output_type": "stream",
     "text": [
      "Request is of type GET\n",
      "<Response 59 bytes [200 OK]>\n",
      "Request received on server\n"
     ]
    },
    {
     "name": "stderr",
     "output_type": "stream",
     "text": [
      "192.168.29.156 - - [07/Nov/2020 00:44:36] \"\u001b[37mGET / HTTP/1.1\u001b[0m\" 200 -\n"
     ]
    },
    {
     "name": "stdout",
     "output_type": "stream",
     "text": [
      "Request is of type GET\n",
      "<Response 82 bytes [200 OK]>\n",
      "Request received on server\n"
     ]
    },
    {
     "name": "stderr",
     "output_type": "stream",
     "text": [
      "192.168.29.156 - - [07/Nov/2020 00:44:59] \"\u001b[37mGET / HTTP/1.1\u001b[0m\" 200 -\n"
     ]
    },
    {
     "name": "stdout",
     "output_type": "stream",
     "text": [
      "Request is of type GET\n",
      "<Response 86 bytes [200 OK]>\n",
      "Request received on server\n"
     ]
    },
    {
     "name": "stderr",
     "output_type": "stream",
     "text": [
      "192.168.29.156 - - [07/Nov/2020 00:45:07] \"\u001b[37mGET / HTTP/1.1\u001b[0m\" 200 -\n"
     ]
    },
    {
     "name": "stdout",
     "output_type": "stream",
     "text": [
      "Request is of type GET\n",
      "<Response 59 bytes [200 OK]>\n",
      "Request received on server\n"
     ]
    },
    {
     "name": "stderr",
     "output_type": "stream",
     "text": [
      "192.168.29.156 - - [07/Nov/2020 00:45:48] \"\u001b[37mGET / HTTP/1.1\u001b[0m\" 200 -\n"
     ]
    },
    {
     "name": "stdout",
     "output_type": "stream",
     "text": [
      "Request is of type GET\n",
      "<Response 82 bytes [200 OK]>\n",
      "Request received on server\n"
     ]
    },
    {
     "name": "stderr",
     "output_type": "stream",
     "text": [
      "192.168.29.156 - - [07/Nov/2020 00:49:05] \"\u001b[37mGET / HTTP/1.1\u001b[0m\" 200 -\n"
     ]
    },
    {
     "name": "stdout",
     "output_type": "stream",
     "text": [
      "Request is of type GET\n",
      "<Response 86 bytes [200 OK]>\n",
      "Request received on server\n"
     ]
    },
    {
     "name": "stderr",
     "output_type": "stream",
     "text": [
      "192.168.29.156 - - [07/Nov/2020 00:49:25] \"\u001b[37mGET / HTTP/1.1\u001b[0m\" 200 -\n"
     ]
    },
    {
     "name": "stdout",
     "output_type": "stream",
     "text": [
      "Request is of type GET\n",
      "<Response 59 bytes [200 OK]>\n"
     ]
    }
   ],
   "source": [
    "from urllib.request import urlopen\n",
    "import requests\n",
    "import random\n",
    "from lxml import etree, html\n",
    "\n",
    "\n",
    "from flask import Flask, render_template, request, jsonify, make_response\n",
    "app = Flask(__name__)\n",
    "\n",
    "urls = []\n",
    "seen = []\n",
    "\n",
    "def findIndex():\n",
    "    global seen\n",
    "    ind = 0\n",
    "    while True:\n",
    "        if not ind in seen:\n",
    "            seen.append(ind)\n",
    "            break\n",
    "        else:\n",
    "            ind = random.randint(0, 2)\n",
    "    if len(seen) == len(urls):\n",
    "        seen = []\n",
    "    return ind\n",
    "        \n",
    "\n",
    "@app.route('/', methods=['GET','OPTIONS','POST'])\n",
    "def greeting():\n",
    "    global urls\n",
    "    print(\"Request received on server\")\n",
    "    urls = ['https://sites.google.com/site/prajtheartist/colors-are-approximate?authuser=0',\n",
    "           'https://sites.google.com/site/prajtheartist/meditation-related?authuser=0']\n",
    "    \n",
    "    xpathselector = '//*[@id=\"content\"]/article/div/div/div[2]/h2/a/@href'\n",
    "    # handling nature url\n",
    "    url =  'https://www.nature.com/'\n",
    "    r = requests.get(url)\n",
    "    response = BeautifulSoup(r.content, 'lxml')\n",
    "    article = response.findAll('div', {'id':\"content\"})[0].findNext('article')\n",
    "    articleUrl = article.findNext('div', {'class': \"u-container\"}).findNext('div', {'class': 'c-hero c-hero--flush-md-max u-mb-16 u-position-relative'}).findNext('div', {'class':'c-hero__image'}).findNext('h2', {}).findNext('a').get('href')\n",
    "\n",
    "    urls.append(articleUrl)    \n",
    "    if request.method == 'OPTIONS': \n",
    "        print(\"Request is of type OPTIONS\")\n",
    "        return build_preflight_response()\n",
    "    else:# if request.method == 'POST': \n",
    "        req = request.get_json()\n",
    "        print(\"Request is of type GET\")\n",
    "        # query user with req['id']\n",
    "        \n",
    "        r = build_actual_response(jsonify({'0':urls[findIndex()]}))\n",
    "        print(r)\n",
    "        return r\n",
    "def build_preflight_response():\n",
    "    response = make_response()\n",
    "    response.headers.add(\"Access-Control-Allow-Origin\", \"*\")\n",
    "    response.headers.add('Access-Control-Allow-Headers', \"*\")\n",
    "    response.headers.add('Access-Control-Allow-Methods', \"*\")\n",
    "    return response\n",
    "\n",
    "def build_actual_response(response):\n",
    "    response.headers.add(\"Access-Control-Allow-Origin\", \"*\")\n",
    "    return response\n",
    "\n",
    "if __name__ == '__main__':\n",
    "    app.run(host='0.0.0.0')"
   ]
  },
  {
   "cell_type": "code",
   "execution_count": null,
   "metadata": {},
   "outputs": [],
   "source": []
  }
 ],
 "metadata": {
  "kernelspec": {
   "display_name": "a-test",
   "language": "python",
   "name": "a-test"
  },
  "language_info": {
   "codemirror_mode": {
    "name": "ipython",
    "version": 3
   },
   "file_extension": ".py",
   "mimetype": "text/x-python",
   "name": "python",
   "nbconvert_exporter": "python",
   "pygments_lexer": "ipython3",
   "version": "3.7.6"
  }
 },
 "nbformat": 4,
 "nbformat_minor": 4
}

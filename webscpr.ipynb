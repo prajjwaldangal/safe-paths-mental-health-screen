{
 "cells": [
  {
   "cell_type": "code",
   "execution_count": null,
   "metadata": {},
   "outputs": [],
   "source": [
    "% backend.py\n",
    "import bs4, requests\n",
    "\n",
    "class URL:\n",
    "    def __init__(self, st, parent=None, children=None):\n",
    "        self.st = st\n",
    "        self.parent = parent\n",
    "        self.children = children\n",
    "\n",
    "    def add_children(children: list):\n",
    "        self.children += children\n",
    "\n",
    "root = URL('https://www.psychologytoday.com/us/blog/index')\n",
    "topics = [\"Addiction\"]\n",
    "\n",
    "htmlpage = requests.get(root,\n",
    "        params = {})\n",
    "\n",
    "soup = bs4.BeautifulSoup(htmlpage,'lxml')\n",
    "\n",
    "soup.map.contents[:6]"
   ]
  },
  {
   "cell_type": "code",
   "execution_count": null,
   "metadata": {},
   "outputs": [],
   "source": [
    "URL('a')"
   ]
  },
  {
   "cell_type": "code",
   "execution_count": null,
   "metadata": {},
   "outputs": [],
   "source": [
    "print(\"hello world\")"
   ]
  },
  {
   "cell_type": "code",
   "execution_count": null,
   "metadata": {},
   "outputs": [],
   "source": []
  }
 ],
 "metadata": {
  "kernelspec": {
   "display_name": "Python 3",
   "language": "python",
   "name": "python3"
  }
 },
 "nbformat": 4,
 "nbformat_minor": 4
}
